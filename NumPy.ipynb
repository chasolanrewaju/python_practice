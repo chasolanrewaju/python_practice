{
 "cells": [
  {
   "cell_type": "code",
   "execution_count": 6,
   "metadata": {},
   "outputs": [
    {
     "data": {
      "text/plain": [
       "[2, 4, 6, 8, 10]"
      ]
     },
     "execution_count": 6,
     "metadata": {},
     "output_type": "execute_result"
    }
   ],
   "source": [
    "python_list = [2,4,6,8,10]\n",
    "python_list\n"
   ]
  },
  {
   "cell_type": "code",
   "execution_count": 12,
   "metadata": {},
   "outputs": [
    {
     "data": {
      "text/plain": [
       "array([ 2,  4,  6,  8, 10])"
      ]
     },
     "execution_count": 12,
     "metadata": {},
     "output_type": "execute_result"
    }
   ],
   "source": [
    "import numpy as np\n",
    "numpy_array1 = np.array(python_list)\n",
    "numpy_array1"
   ]
  },
  {
   "cell_type": "code",
   "execution_count": 1,
   "metadata": {},
   "outputs": [],
   "source": [
    "\n",
    "def list_sum ():\n",
    "    z = []\n",
    "    for i in range (len(list_x)):\n",
    "       list_total = (z.append (list_x [i] + list_y[i]))\n",
    "\n",
    "\n",
    "list_x = list (range(100000))\n",
    "list_y = list (range(100000))\n",
    "\n"
   ]
  },
  {
   "cell_type": "markdown",
   "metadata": {},
   "source": [
    "SHAPE,SIZE and DATA TYPE OF AN ARRAY"
   ]
  },
  {
   "cell_type": "code",
   "execution_count": 31,
   "metadata": {},
   "outputs": [
    {
     "data": {
      "text/plain": [
       "array([[ 5,  6,  7],\n",
       "       [ 8,  9, 10],\n",
       "       [11, 12, 13],\n",
       "       [ 1,  2,  3]])"
      ]
     },
     "execution_count": 31,
     "metadata": {},
     "output_type": "execute_result"
    }
   ],
   "source": [
    "import numpy as np\n",
    "arr = np.array ([[5,6,7],[8,9,10],[11,12,13],[1,2,3]])\n",
    "arr"
   ]
  },
  {
   "cell_type": "code",
   "execution_count": 35,
   "metadata": {},
   "outputs": [
    {
     "data": {
      "text/plain": [
       "12"
      ]
     },
     "execution_count": 35,
     "metadata": {},
     "output_type": "execute_result"
    }
   ],
   "source": [
    "arr.size"
   ]
  },
  {
   "cell_type": "code",
   "execution_count": 36,
   "metadata": {},
   "outputs": [
    {
     "data": {
      "text/plain": [
       "dtype('int32')"
      ]
     },
     "execution_count": 36,
     "metadata": {},
     "output_type": "execute_result"
    }
   ],
   "source": [
    "arr.dtype"
   ]
  },
  {
   "cell_type": "code",
   "execution_count": 37,
   "metadata": {},
   "outputs": [
    {
     "data": {
      "text/plain": [
       "(4, 3)"
      ]
     },
     "execution_count": 37,
     "metadata": {},
     "output_type": "execute_result"
    }
   ],
   "source": [
    "arr.shape"
   ]
  },
  {
   "cell_type": "code",
   "execution_count": 38,
   "metadata": {},
   "outputs": [
    {
     "data": {
      "text/plain": [
       "2"
      ]
     },
     "execution_count": 38,
     "metadata": {},
     "output_type": "execute_result"
    }
   ],
   "source": [
    "arr.ndim"
   ]
  },
  {
   "cell_type": "markdown",
   "metadata": {},
   "source": [
    "type() FUNCTION and dtype METHOD"
   ]
  },
  {
   "cell_type": "code",
   "execution_count": 39,
   "metadata": {},
   "outputs": [
    {
     "data": {
      "text/plain": [
       "numpy.ndarray"
      ]
     },
     "execution_count": 39,
     "metadata": {},
     "output_type": "execute_result"
    }
   ],
   "source": [
    "type(arr)"
   ]
  },
  {
   "cell_type": "code",
   "execution_count": 41,
   "metadata": {},
   "outputs": [
    {
     "data": {
      "text/plain": [
       "list"
      ]
     },
     "execution_count": 41,
     "metadata": {},
     "output_type": "execute_result"
    }
   ],
   "source": [
    "type (python_list)"
   ]
  },
  {
   "cell_type": "code",
   "execution_count": 42,
   "metadata": {},
   "outputs": [
    {
     "ename": "AttributeError",
     "evalue": "'list' object has no attribute 'dtype'",
     "output_type": "error",
     "traceback": [
      "\u001b[1;31m---------------------------------------------------------------------------\u001b[0m",
      "\u001b[1;31mAttributeError\u001b[0m                            Traceback (most recent call last)",
      "\u001b[1;32mc:\\Users\\hp\\Desktop\\python_practice\\python_practice\\NumPy.ipynb Cell 13\u001b[0m in \u001b[0;36m<cell line: 1>\u001b[1;34m()\u001b[0m\n\u001b[1;32m----> <a href='vscode-notebook-cell:/c%3A/Users/hp/Desktop/python_practice/python_practice/NumPy.ipynb#ch0000015?line=0'>1</a>\u001b[0m python_list\u001b[39m.\u001b[39;49mdtype\n",
      "\u001b[1;31mAttributeError\u001b[0m: 'list' object has no attribute 'dtype'"
     ]
    }
   ],
   "source": [
    "python_list.dtype"
   ]
  },
  {
   "cell_type": "markdown",
   "metadata": {},
   "source": [
    "CREATING BASIC NUMPY ARRAYS"
   ]
  },
  {
   "cell_type": "code",
   "execution_count": 45,
   "metadata": {},
   "outputs": [
    {
     "data": {
      "text/plain": [
       "array([0, 1, 2, 3, 4, 5, 6, 7, 8, 9])"
      ]
     },
     "execution_count": 45,
     "metadata": {},
     "output_type": "execute_result"
    }
   ],
   "source": [
    "arr1 = np.arange(10) \n",
    "arr1"
   ]
  },
  {
   "cell_type": "code",
   "execution_count": 49,
   "metadata": {},
   "outputs": [
    {
     "data": {
      "text/plain": [
       "array([0., 0., 0., 0., 0., 0., 0.])"
      ]
     },
     "execution_count": 49,
     "metadata": {},
     "output_type": "execute_result"
    }
   ],
   "source": [
    "arr2 = np.zeros(7)\n",
    "arr2"
   ]
  },
  {
   "cell_type": "code",
   "execution_count": 50,
   "metadata": {},
   "outputs": [
    {
     "data": {
      "text/plain": [
       "array([1., 1., 1., 1.])"
      ]
     },
     "execution_count": 50,
     "metadata": {},
     "output_type": "execute_result"
    }
   ],
   "source": [
    "arr3 = np.ones(4)\n",
    "arr3"
   ]
  },
  {
   "cell_type": "code",
   "execution_count": 5,
   "metadata": {},
   "outputs": [
    {
     "data": {
      "text/plain": [
       "array([ 1.        ,  1.18367347,  1.36734694,  1.55102041,  1.73469388,\n",
       "        1.91836735,  2.10204082,  2.28571429,  2.46938776,  2.65306122,\n",
       "        2.83673469,  3.02040816,  3.20408163,  3.3877551 ,  3.57142857,\n",
       "        3.75510204,  3.93877551,  4.12244898,  4.30612245,  4.48979592,\n",
       "        4.67346939,  4.85714286,  5.04081633,  5.2244898 ,  5.40816327,\n",
       "        5.59183673,  5.7755102 ,  5.95918367,  6.14285714,  6.32653061,\n",
       "        6.51020408,  6.69387755,  6.87755102,  7.06122449,  7.24489796,\n",
       "        7.42857143,  7.6122449 ,  7.79591837,  7.97959184,  8.16326531,\n",
       "        8.34693878,  8.53061224,  8.71428571,  8.89795918,  9.08163265,\n",
       "        9.26530612,  9.44897959,  9.63265306,  9.81632653, 10.        ])"
      ]
     },
     "execution_count": 5,
     "metadata": {},
     "output_type": "execute_result"
    }
   ],
   "source": [
    "import numpy as np\n",
    "arr4 = np.linspace(start=1, stop=10)\n",
    "arr4"
   ]
  },
  {
   "cell_type": "code",
   "execution_count": 11,
   "metadata": {},
   "outputs": [
    {
     "data": {
      "text/plain": [
       "array([1.  , 1.75, 2.5 , 3.25, 4.  , 4.75, 5.5 , 6.25, 7.  , 7.75, 8.5 ,\n",
       "       9.25])"
      ]
     },
     "execution_count": 11,
     "metadata": {},
     "output_type": "execute_result"
    }
   ],
   "source": [
    "arr5 = np.linspace(1, 10, num=12, endpoint=False)\n",
    "arr5"
   ]
  },
  {
   "cell_type": "markdown",
   "metadata": {},
   "source": [
    "ADD, REMOVE and SORT\n",
    "1. Adding an Element\n",
    "    i. Create a NumPy array:\n",
    "        arr = np.array\n",
    "        arr\n",
    "        array ([2,5,7,3,4,6])\n",
    "    ii. You can use append method to add an element in a NumPy array:\n",
    "        np.append(arr,15)\n",
    "        array([2,5,7,3,4,6,15])\n",
    "    iii. You can also add an element to a python list using the np.append() method. But the returned object is a NumPy array\n",
    "        l = [2,5,7,3,4,6,15]\n",
    "        arr = np.append(l, 10)\n",
    "        arr\n",
    "        array([2,5,4,6,7,10])\n",
    "        type(arr)\n",
    "        numpy.ndarray\n",
    "    iv. You can also add a list of elemnts. Try doing this by yourself. For example,\n",
    "        np.append (arr,[11,22])\n",
    "2. Removing Elements\n",
    "    1. You can remove element from an array using the delete method of NumPy\n",
    "        arr = np.array ([2,,5,7,3,4,6])\n",
    "        arr\n",
    "        array ([2,,5,7,3,4,6])\n",
    "    ii. You can also remove an element from a python list using np.delete() method\n",
    "        import numpy as np\n",
    "        python_list = [2,,5,7,3,4,6]\n",
    "        np.delete(python_list,1)\n",
    "3. Sorting and Array\n",
    "    i. You can quickly sort an array in ascending order as:\n",
    "        arr\n",
    "        array([2,5,7,3,4,6])\n",
    "        np.sort(arr)\n",
    "        array([2,3,4,5,6,7])"
   ]
  },
  {
   "cell_type": "code",
   "execution_count": 15,
   "metadata": {},
   "outputs": [
    {
     "data": {
      "text/plain": [
       "array([2, 5, 7, 3, 4, 6, 8])"
      ]
     },
     "execution_count": 15,
     "metadata": {},
     "output_type": "execute_result"
    }
   ],
   "source": [
    "import numpy as np\n",
    "arr6 = np.array([2,5,7,3,4,6])\n",
    "arr6\n",
    "np.append(arr6, 8)"
   ]
  },
  {
   "cell_type": "code",
   "execution_count": 17,
   "metadata": {},
   "outputs": [
    {
     "data": {
      "text/plain": [
       "array([ 2,  5,  7,  3,  4,  6, 28,  9, 13])"
      ]
     },
     "execution_count": 17,
     "metadata": {},
     "output_type": "execute_result"
    }
   ],
   "source": [
    "np.append(arr6, [28,9,13])"
   ]
  },
  {
   "cell_type": "code",
   "execution_count": 18,
   "metadata": {},
   "outputs": [
    {
     "data": {
      "text/plain": [
       "array([2, 3, 4, 5, 6, 7])"
      ]
     },
     "execution_count": 18,
     "metadata": {},
     "output_type": "execute_result"
    }
   ],
   "source": [
    "np.sort(arr6)"
   ]
  },
  {
   "cell_type": "code",
   "execution_count": 19,
   "metadata": {},
   "outputs": [
    {
     "data": {
      "text/plain": [
       "array([2, 5, 3, 4, 6])"
      ]
     },
     "execution_count": 19,
     "metadata": {},
     "output_type": "execute_result"
    }
   ],
   "source": [
    "np.delete (arr6, 2)"
   ]
  },
  {
   "cell_type": "markdown",
   "metadata": {},
   "source": [
    "RESHAPING"
   ]
  },
  {
   "cell_type": "code",
   "execution_count": 24,
   "metadata": {},
   "outputs": [
    {
     "data": {
      "text/plain": [
       "array([1, 2, 3, 4, 5, 6, 7, 8, 9])"
      ]
     },
     "execution_count": 24,
     "metadata": {},
     "output_type": "execute_result"
    }
   ],
   "source": [
    "L = [x for x in range (1,10,1)]\n",
    "L\n",
    "np.array(L)"
   ]
  },
  {
   "cell_type": "code",
   "execution_count": 37,
   "metadata": {},
   "outputs": [
    {
     "data": {
      "text/plain": [
       "array([[1, 2, 3],\n",
       "       [4, 5, 6],\n",
       "       [7, 8, 9]])"
      ]
     },
     "execution_count": 37,
     "metadata": {},
     "output_type": "execute_result"
    }
   ],
   "source": [
    "L = np.arange(1,10,1)\n",
    "reshaped_arr = np.reshape(L,(3,3))\n",
    "reshaped_arr"
   ]
  },
  {
   "cell_type": "code",
   "execution_count": 38,
   "metadata": {},
   "outputs": [
    {
     "data": {
      "text/plain": [
       "array([[0, 1, 2],\n",
       "       [3, 4, 5],\n",
       "       [6, 7, 8]])"
      ]
     },
     "execution_count": 38,
     "metadata": {},
     "output_type": "execute_result"
    }
   ],
   "source": [
    "reshaped_arr = np.arange(9).reshape((3,3))\n",
    "reshaped_arr"
   ]
  },
  {
   "cell_type": "code",
   "execution_count": 42,
   "metadata": {},
   "outputs": [
    {
     "data": {
      "text/plain": [
       "array([[ 0,  1,  2,  3,  4,  5,  6,  7,  8,  9, 10, 11],\n",
       "       [12, 13, 14, 15, 16, 17, 18, 19, 20, 21, 22, 23]])"
      ]
     },
     "execution_count": 42,
     "metadata": {},
     "output_type": "execute_result"
    }
   ],
   "source": [
    "arr7 = np.arange(24)\n",
    "arrayT = np.reshape(arr7,(2,12))\n",
    "arrayT"
   ]
  },
  {
   "cell_type": "markdown",
   "metadata": {},
   "source": [
    "INDEXING AND SLICING\n",
    "1.  Positive Indexing\n",
    "2.  Negative Indexing"
   ]
  },
  {
   "cell_type": "code",
   "execution_count": 52,
   "metadata": {},
   "outputs": [
    {
     "data": {
      "text/plain": [
       "19"
      ]
     },
     "execution_count": 52,
     "metadata": {},
     "output_type": "execute_result"
    }
   ],
   "source": [
    "arrayT[1][7]"
   ]
  },
  {
   "cell_type": "code",
   "execution_count": 53,
   "metadata": {},
   "outputs": [
    {
     "data": {
      "text/plain": [
       "array([[ 0,  1,  2],\n",
       "       [12, 13, 14]])"
      ]
     },
     "execution_count": 53,
     "metadata": {},
     "output_type": "execute_result"
    }
   ],
   "source": [
    "arrayT[0:2,0:3]"
   ]
  },
  {
   "cell_type": "code",
   "execution_count": 14,
   "metadata": {},
   "outputs": [
    {
     "data": {
      "text/plain": [
       "array([[[ 40,  34,  22],\n",
       "        [ 40,  34,  22],\n",
       "        [ 41,  35,  23],\n",
       "        ...,\n",
       "        [ 99,  69,  33],\n",
       "        [102,  72,  36],\n",
       "        [103,  73,  37]],\n",
       "\n",
       "       [[ 41,  35,  23],\n",
       "        [ 40,  34,  22],\n",
       "        [ 40,  34,  22],\n",
       "        ...,\n",
       "        [104,  74,  38],\n",
       "        [105,  75,  41],\n",
       "        [107,  77,  41]],\n",
       "\n",
       "       [[ 41,  35,  23],\n",
       "        [ 41,  35,  23],\n",
       "        [ 40,  34,  22],\n",
       "        ...,\n",
       "        [106,  76,  42],\n",
       "        [108,  77,  46],\n",
       "        [109,  79,  45]],\n",
       "\n",
       "       ...,\n",
       "\n",
       "       [[102,  96,  64],\n",
       "        [102,  96,  64],\n",
       "        [102,  96,  64],\n",
       "        ...,\n",
       "        [150, 144, 132],\n",
       "        [150, 144, 132],\n",
       "        [150, 144, 132]],\n",
       "\n",
       "       [[102,  96,  64],\n",
       "        [102,  96,  64],\n",
       "        [102,  96,  64],\n",
       "        ...,\n",
       "        [150, 144, 132],\n",
       "        [150, 144, 132],\n",
       "        [150, 144, 132]],\n",
       "\n",
       "       [[102,  96,  64],\n",
       "        [102,  96,  64],\n",
       "        [103,  97,  65],\n",
       "        ...,\n",
       "        [150, 144, 132],\n",
       "        [150, 144, 132],\n",
       "        [150, 144, 132]]], dtype=uint8)"
      ]
     },
     "execution_count": 14,
     "metadata": {},
     "output_type": "execute_result"
    }
   ],
   "source": [
    "from PIL import Image\n",
    "from numpy import asarray\n",
    "\n",
    "img = Image.open ('A.jpeg')\n",
    "numpydata = asarray(img)\n",
    "numpydata"
   ]
  },
  {
   "cell_type": "code",
   "execution_count": 4,
   "metadata": {},
   "outputs": [
    {
     "ename": "NameError",
     "evalue": "name 'numpydata' is not defined",
     "output_type": "error",
     "traceback": [
      "\u001b[1;31m---------------------------------------------------------------------------\u001b[0m",
      "\u001b[1;31mNameError\u001b[0m                                 Traceback (most recent call last)",
      "\u001b[1;32mc:\\Users\\hp\\Desktop\\python_practice\\python_practice\\NumPy.ipynb Cell 34\u001b[0m in \u001b[0;36m<cell line: 1>\u001b[1;34m()\u001b[0m\n\u001b[1;32m----> <a href='vscode-notebook-cell:/c%3A/Users/hp/Desktop/python_practice/python_practice/NumPy.ipynb#ch0000033?line=0'>1</a>\u001b[0m pilImage \u001b[39m=\u001b[39m Image\u001b[39m.\u001b[39mfromarray(numpydata)\n\u001b[0;32m      <a href='vscode-notebook-cell:/c%3A/Users/hp/Desktop/python_practice/python_practice/NumPy.ipynb#ch0000033?line=1'>2</a>\u001b[0m pilImage\u001b[39m.\u001b[39msave (\u001b[39m'\u001b[39m\u001b[39mW.jpeg\u001b[39m\u001b[39m'\u001b[39m)\n\u001b[0;32m      <a href='vscode-notebook-cell:/c%3A/Users/hp/Desktop/python_practice/python_practice/NumPy.ipynb#ch0000033?line=2'>3</a>\u001b[0m pilImage\u001b[39m.\u001b[39mshow()\n",
      "\u001b[1;31mNameError\u001b[0m: name 'numpydata' is not defined"
     ]
    }
   ],
   "source": [
    "pilImage = Image.fromarray(numpydata)\n",
    "pilImage.save ('W.jpeg')\n",
    "pilImage.show()\n",
    "print(pilImage)\n",
    "print(type(pilImage))\n",
    "print(pilImage.mode)\n",
    "print(pilImage.size)"
   ]
  },
  {
   "cell_type": "code",
   "execution_count": 2,
   "metadata": {},
   "outputs": [
    {
     "ename": "NameError",
     "evalue": "name 'uint8' is not defined",
     "output_type": "error",
     "traceback": [
      "\u001b[1;31m---------------------------------------------------------------------------\u001b[0m",
      "\u001b[1;31mNameError\u001b[0m                                 Traceback (most recent call last)",
      "\u001b[1;32mc:\\Users\\hp\\Desktop\\python_practice\\python_practice\\NumPy.ipynb Cell 35\u001b[0m in \u001b[0;36m<cell line: 3>\u001b[1;34m()\u001b[0m\n\u001b[0;32m      <a href='vscode-notebook-cell:/c%3A/Users/hp/Desktop/python_practice/python_practice/NumPy.ipynb#ch0000034?line=0'>1</a>\u001b[0m \u001b[39mfrom\u001b[39;00m \u001b[39mPIL\u001b[39;00m \u001b[39mimport\u001b[39;00m Image\n\u001b[0;32m      <a href='vscode-notebook-cell:/c%3A/Users/hp/Desktop/python_practice/python_practice/NumPy.ipynb#ch0000034?line=1'>2</a>\u001b[0m \u001b[39mimport\u001b[39;00m \u001b[39mnumpy\u001b[39;00m \u001b[39mas\u001b[39;00m \u001b[39mnp\u001b[39;00m\n\u001b[1;32m----> <a href='vscode-notebook-cell:/c%3A/Users/hp/Desktop/python_practice/python_practice/NumPy.ipynb#ch0000034?line=2'>3</a>\u001b[0m original \u001b[39m=\u001b[39m np\u001b[39m.\u001b[39mrandom\u001b[39m.\u001b[39mrandom((\u001b[39m28\u001b[39m,\u001b[39m28\u001b[39m,\u001b[39m3\u001b[39m),dtype\u001b[39m=\u001b[39muint8)\n\u001b[0;32m      <a href='vscode-notebook-cell:/c%3A/Users/hp/Desktop/python_practice/python_practice/NumPy.ipynb#ch0000034?line=3'>4</a>\u001b[0m \u001b[39mprint\u001b[39m (original)\n\u001b[0;32m      <a href='vscode-notebook-cell:/c%3A/Users/hp/Desktop/python_practice/python_practice/NumPy.ipynb#ch0000034?line=4'>5</a>\u001b[0m img \u001b[39m=\u001b[39m Image\u001b[39m.\u001b[39mfromarray(original)\n",
      "\u001b[1;31mNameError\u001b[0m: name 'uint8' is not defined"
     ]
    }
   ],
   "source": [
    "from PIL import Image\n",
    "import numpy as np\n",
    "original = np.random.random((28,28,3),dtype=uint8)\n",
    "print (original)\n",
    "img = Image.fromarray(original)\n",
    "img.show()\n",
    "\n"
   ]
  },
  {
   "cell_type": "code",
   "execution_count": 1,
   "metadata": {},
   "outputs": [
    {
     "name": "stdout",
     "output_type": "stream",
     "text": [
      "[[ 98  59 178  96 160  40  41 190  79  65  47 108 147 164 144 158  55 142\n",
      "   40 250 105 211 193 107  23  66   8 173]\n",
      " [251 184  36 142 201  26  34  38  57 209 248 203 104 118 230 233 220 209\n",
      "  187  34  48  84 176 114 193 182   3  69]\n",
      " [108 172  16  60  57 199 144 156  96  28 162  34   2  47  71 246 195 246\n",
      "  225  39  56 136  33 101 186 116 190 181]\n",
      " [ 58  28 138 115 142 126  96 187 221 253 155 209  95  63 140 100 117 211\n",
      "  221 154 190  35 165   8 209  58 224 209]\n",
      " [109 147  13  78 158   2 170 233  50 201 112  89 199 231 207  77 134 191\n",
      "  161 181 177  64  64  21 210 168 143  23]\n",
      " [221  90  51 167 113  85 139 133  11 225 199  93 243  70 236 175 133 107\n",
      "   17 185 119   2  36 223 135 148 193 184]\n",
      " [156 253  48 218 184  55 253  87 191 139  43  78  21 130 218  73  65 169\n",
      "   88  95  90 142 254 175  69  15 251 110]\n",
      " [237 179  37 245 163  96 124 113 223 198  42 159 101 176 103  47  46 147\n",
      "  175 127 151  39 217  94  97 137 192  22]\n",
      " [ 40  52 249  44 225 126 238 118  22  75 205 103 121  23  60  43  45 251\n",
      "  232 234 166 236  67 116   8  30  38  68]\n",
      " [123 208 211  77 244  63 200 225 126 221  69 187 214 107  11  73 120  74\n",
      "   29 105 240 239 242  62  39 187 187 131]\n",
      " [241  65  36  58 114  43 172  78  77 137  42 162  82 156   7  84  64 218\n",
      "   23 178 241   6   9   3 113 155  46 101]\n",
      " [240  20 219 235  81  96 239 232 214 129  99 220 235 170 234  61  51 105\n",
      "  178  86 230  41  18 181 128 179 225  38]\n",
      " [159 216 125  87  68 150 132 176 223 206 171  39 239 180  74 148  70 193\n",
      "   28 155 204 127  96 100 108  51 171 166]\n",
      " [140  86 242 166 150 204 113  53 188 185  92  44  42 177 153 230 159  43\n",
      "  223  33 254   2 122  12 189 201  94 217]\n",
      " [ 16  87 153 197  44  57 123 189 239  31  69 119 166  58  56  23 151 106\n",
      "  149 170  28  32 195  26  79   0  99 113]\n",
      " [151  75 144 243 137  66   7  13  63 132 236 146   6 199 211 240  52 245\n",
      "    7  96 233  78 104 145 108  32 210   5]\n",
      " [137 222 135 242  65  37  72 210 199  12   6  94 203 214  82  37  67  55\n",
      "  107  58 233 193 229  92 208  88 197  49]\n",
      " [118 184 193 185 151 188  45   1 152  65 169  79  71 165  54 120 170  43\n",
      "  254 205 134  23 127 121 170  27  65  11]\n",
      " [ 74 114  58  68 177  59 164 204 172  72   5  91 155  57 250  82  36 171\n",
      "   77 233 115  43  74  18  41 242 116 175]\n",
      " [ 45   0 128  28  65 224  89 206 223  25  55 224  99  17 132  26  66 221\n",
      "  101  34  29 242 240 133 225 171 159 100]\n",
      " [ 49 106 179  90  13  35 197  63 145 248 219 224  40 205 250 175 139  25\n",
      "  125  80 251 117 139 117  60  92   2 199]\n",
      " [ 10 147 123 208 232  83 233 120 215  10 103 194 129  89 214  30  67  61\n",
      "  181  12  85 168 249 147  18  61 238 139]\n",
      " [ 28 134 211 170 230 173  54  52 125 243 115 151 220 212 113 251  42 101\n",
      "  241 158 166 188 217 120  55 140 174 149]\n",
      " [ 35 166 194  91   2 190 142 122 246  54 192 166 114  24  15 223  37 153\n",
      "   92  40 124 155   1  47  88 190  91 136]\n",
      " [ 93 167 113 226 199 154  54 247  95 191  58 146 171 212  69 243 239 208\n",
      "  156  47 242 110   4   4 216 100   0 226]\n",
      " [140  92  76 252 138  19 232 175 165  20  94 151 176 235  47  72 107  63\n",
      "  119 168 233 127  42  64 107  67 196  20]\n",
      " [132 107 122 233 101 220 226 136 149 120 156 237 199  16 173 153  72 145\n",
      "  230   6 104 213 172  74 233 187  84   7]\n",
      " [ 20 159  53 212  32 240 186  10  86  97 134 195 222 108 209   7 240  10\n",
      "  206  85 221 148  94  64 206 156 163 135]]\n"
     ]
    }
   ],
   "source": [
    "from PIL import Image\n",
    "import numpy as np\n",
    "arr = np.random.randint(255, size=(28, 28),dtype=np.uint8)\n",
    "print(arr)\n",
    "img = Image.fromarray(arr)\n",
    "img.show()"
   ]
  },
  {
   "cell_type": "code",
   "execution_count": 20,
   "metadata": {},
   "outputs": [
    {
     "name": "stdout",
     "output_type": "stream",
     "text": [
      "[[[152 190  30 ...  83 234 197]\n",
      "  [228 158   8 ... 182  79 105]\n",
      "  [134  77  84 ... 190 242  30]\n",
      "  ...\n",
      "  [ 45 245 148 ... 138  17  53]\n",
      "  [137 236 232 ... 154  18  76]\n",
      "  [138   9 252 ...  63  49 232]]\n",
      "\n",
      " [[142 124 189 ...  51  50 205]\n",
      "  [218  23 119 ...  76  87   6]\n",
      "  [119  28 211 ... 158  59   8]\n",
      "  ...\n",
      "  [  1 166  67 ... 219  31 227]\n",
      "  [153 137 195 ... 216 205 251]\n",
      "  [161 178  61 ... 245  36 154]]\n",
      "\n",
      " [[ 28 236 222 ...  31 125  26]\n",
      "  [159  69 113 ... 172   2  21]\n",
      "  [164  21   4 ... 250 164 169]\n",
      "  ...\n",
      "  [ 38 255  63 ... 152 153  37]\n",
      "  [ 99  59 186 ... 114  95 132]\n",
      "  [ 97 150  91 ... 252   7 147]]]\n",
      "[218  23 119 123  26  52  55  46 217  95]\n"
     ]
    }
   ],
   "source": [
    "arr = np.random.randint(0,256, size=(3,28, 28),dtype=np.uint8)\n",
    "print(arr)\n",
    "print(arr[1,1,:10])"
   ]
  },
  {
   "cell_type": "code",
   "execution_count": null,
   "metadata": {},
   "outputs": [],
   "source": []
  }
 ],
 "metadata": {
  "kernelspec": {
   "display_name": "Python 3.10.5 64-bit",
   "language": "python",
   "name": "python3"
  },
  "language_info": {
   "codemirror_mode": {
    "name": "ipython",
    "version": 3
   },
   "file_extension": ".py",
   "mimetype": "text/x-python",
   "name": "python",
   "nbconvert_exporter": "python",
   "pygments_lexer": "ipython3",
   "version": "3.10.5"
  },
  "orig_nbformat": 4,
  "vscode": {
   "interpreter": {
    "hash": "26de051ba29f2982a8de78e945f0abaf191376122a1563185a90213a26c5da77"
   }
  }
 },
 "nbformat": 4,
 "nbformat_minor": 2
}
